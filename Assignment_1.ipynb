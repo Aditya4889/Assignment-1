{
 "cells": [
  {
   "cell_type": "markdown",
   "id": "c1c7cf4b",
   "metadata": {},
   "source": [
    "Q1. Create one variable containing following type of data:\n",
    "(i) string\n",
    "(ii) list\n",
    "(iii) float\n",
    "(iv) tuple"
   ]
  },
  {
   "cell_type": "code",
   "execution_count": 5,
   "id": "320e6923",
   "metadata": {},
   "outputs": [],
   "source": [
    "# String Datatype\n",
    "str = \"Aditya\""
   ]
  },
  {
   "cell_type": "code",
   "execution_count": 6,
   "id": "42f9671c",
   "metadata": {},
   "outputs": [],
   "source": [
    " #list\n",
    "Lst = [1,2,3,\"Aditya\"]\n",
    "\n"
   ]
  },
  {
   "cell_type": "code",
   "execution_count": 7,
   "id": "368a23ad",
   "metadata": {},
   "outputs": [],
   "source": [
    " #float\n",
    "a= 1.35\n",
    "\n"
   ]
  },
  {
   "cell_type": "code",
   "execution_count": 8,
   "id": "e0ac2e85",
   "metadata": {},
   "outputs": [],
   "source": [
    " #tuple\n",
    "tup =(1,2,3,4)"
   ]
  },
  {
   "cell_type": "markdown",
   "id": "31da48ca",
   "metadata": {},
   "source": [
    "Q2. Given are some following variables containing data:\n",
    "(i) var1 = ‘ ‘\n",
    "(ii) var2 = ‘[ DS , ML , Python]’\n",
    "(iii) var3 = [ ‘DS’ , ’ML’ , ‘Python’ ]\n",
    "(iv) var4 = 1.\n",
    "What will be the data type of the above given variable."
   ]
  },
  {
   "cell_type": "markdown",
   "id": "037e66c8",
   "metadata": {},
   "source": [
    " 1. var1 = '' String \n",
    " 2. Var2  is string\n",
    " 3. var3 is list \n",
    " 4. var4  is integer"
   ]
  },
  {
   "cell_type": "markdown",
   "id": "b7d344fe",
   "metadata": {},
   "source": [
    "Q3. Explain the use of the following operators using an example:\n",
    "\n",
    "(i) /\n",
    "\n",
    "(ii) %\n",
    "\n",
    "(iii) //\n",
    "\n",
    "(iv) **"
   ]
  },
  {
   "cell_type": "code",
   "execution_count": 15,
   "id": "65346cf2",
   "metadata": {},
   "outputs": [
    {
     "name": "stdout",
     "output_type": "stream",
     "text": [
      "4.0\n"
     ]
    }
   ],
   "source": [
    "# / - Division operator\n",
    "# It divieds the given numerator with denominator\n",
    "x = 12\n",
    "y = 3\n",
    "\n",
    "print(x / y)"
   ]
  },
  {
   "cell_type": "code",
   "execution_count": 16,
   "id": "3f504544",
   "metadata": {},
   "outputs": [
    {
     "name": "stdout",
     "output_type": "stream",
     "text": [
      "1\n"
     ]
    }
   ],
   "source": [
    "#  % - Modulus operator\n",
    "# It returns the remainder of dividing the left hand operand by right hand operand.\n",
    "x = 5\n",
    "y = 2\n",
    "\n",
    "print(x % y)"
   ]
  },
  {
   "cell_type": "code",
   "execution_count": 17,
   "id": "7507b10b",
   "metadata": {},
   "outputs": [
    {
     "name": "stdout",
     "output_type": "stream",
     "text": [
      "7\n"
     ]
    }
   ],
   "source": [
    "# // - Floor division\n",
    "# the floor division // rounds the result down to the nearest whole number\n",
    "x = 15\n",
    "y = 2\n",
    "\n",
    "print(x // y)"
   ]
  },
  {
   "cell_type": "code",
   "execution_count": 18,
   "id": "0c327053",
   "metadata": {},
   "outputs": [
    {
     "name": "stdout",
     "output_type": "stream",
     "text": [
      "32\n"
     ]
    }
   ],
   "source": [
    "# ** - Exponentiation operator\n",
    "x = 2\n",
    "y = 5\n",
    "\n",
    "print(x ** y)"
   ]
  },
  {
   "cell_type": "markdown",
   "id": "d78a19c2",
   "metadata": {},
   "source": [
    "Q4 . Create a list of length 10 of your choice containing multiple types of data. Using for loop print the\n",
    "element and its data type."
   ]
  },
  {
   "cell_type": "code",
   "execution_count": 19,
   "id": "db01a56f",
   "metadata": {},
   "outputs": [],
   "source": [
    "a=[1,2,3,4,5,1.33, [1,2,3],'Aditya' ,9,10]"
   ]
  },
  {
   "cell_type": "code",
   "execution_count": 23,
   "id": "2217d634",
   "metadata": {},
   "outputs": [
    {
     "name": "stdout",
     "output_type": "stream",
     "text": [
      "1\n",
      "<class 'int'>\n",
      "2\n",
      "<class 'int'>\n",
      "3\n",
      "<class 'int'>\n",
      "4\n",
      "<class 'int'>\n",
      "5\n",
      "<class 'int'>\n",
      "1.33\n",
      "<class 'float'>\n",
      "[1, 2, 3]\n",
      "<class 'list'>\n",
      "Aditya\n",
      "<class 'str'>\n",
      "9\n",
      "<class 'int'>\n",
      "10\n",
      "<class 'int'>\n"
     ]
    }
   ],
   "source": [
    "for x in a :\n",
    "    print (x)\n",
    "    print(type(x))"
   ]
  },
  {
   "cell_type": "markdown",
   "id": "4a28ab7d",
   "metadata": {},
   "source": [
    "Q5. Using a while loop, verify if the number A is purely divisible by number B and if so then how many\n",
    "times it can be divisible."
   ]
  },
  {
   "cell_type": "code",
   "execution_count": 26,
   "id": "bc6aceb2",
   "metadata": {},
   "outputs": [
    {
     "name": "stdout",
     "output_type": "stream",
     "text": [
      "Divisible by 5 times\n"
     ]
    }
   ],
   "source": [
    "A=70\n",
    "B=14\n",
    "t=0\n",
    "while A>=0:\n",
    "    prev_A=A\n",
    "    A=A-B\n",
    "    t+=1\n",
    "t-=1\n",
    "if prev_A==0:\n",
    "    print(\"Divisible by\",t,\"times\")\n",
    "else:\n",
    "    print(\"Not divisible\")"
   ]
  },
  {
   "cell_type": "markdown",
   "id": "9b910381",
   "metadata": {},
   "source": [
    "Q6. Create a list containing 25 int type data. Using for loop and if-else condition print if the element is\n",
    "divisible by 3 or not."
   ]
  },
  {
   "cell_type": "code",
   "execution_count": 30,
   "id": "07569be7",
   "metadata": {},
   "outputs": [
    {
     "name": "stdout",
     "output_type": "stream",
     "text": [
      "1\n",
      "It is not divisiable by 3\n",
      "2\n",
      "It is not divisiable by 3\n",
      "3\n",
      "It is divisible by 3\n",
      "4\n",
      "It is not divisiable by 3\n",
      "5\n",
      "It is not divisiable by 3\n",
      "6\n",
      "It is divisible by 3\n",
      "7\n",
      "It is not divisiable by 3\n",
      "8\n",
      "It is not divisiable by 3\n",
      "9\n",
      "It is divisible by 3\n",
      "10\n",
      "It is not divisiable by 3\n",
      "11\n",
      "It is not divisiable by 3\n",
      "12\n",
      "It is divisible by 3\n",
      "13\n",
      "It is not divisiable by 3\n",
      "14\n",
      "It is not divisiable by 3\n",
      "15\n",
      "It is divisible by 3\n",
      "16\n",
      "It is not divisiable by 3\n",
      "17\n",
      "It is not divisiable by 3\n",
      "18\n",
      "It is divisible by 3\n",
      "19\n",
      "It is not divisiable by 3\n",
      "20\n",
      "It is not divisiable by 3\n",
      "21\n",
      "It is divisible by 3\n",
      "22\n",
      "It is not divisiable by 3\n",
      "23\n",
      "It is not divisiable by 3\n",
      "24\n",
      "It is divisible by 3\n",
      "25\n",
      "It is not divisiable by 3\n"
     ]
    }
   ],
   "source": [
    "L =[1,2,3,4,5,6,7,8,9,10,11,12,13,14,15,16,17,18,19,20,21,22,23,24,25]\n",
    "for x in L:\n",
    "    print (x)\n",
    "    if x % 3 ==0 :\n",
    "        print( \"It is divisible by 3\")\n",
    "    else :\n",
    "        print(\"It is not divisiable by 3\")\n",
    "    "
   ]
  },
  {
   "cell_type": "markdown",
   "id": "72836af4",
   "metadata": {},
   "source": [
    "Q7. What do you understand about mutable and immutable data types? Give examples for both showing\n",
    "this property."
   ]
  },
  {
   "cell_type": "markdown",
   "id": "c53dfd01",
   "metadata": {},
   "source": [
    "A mutable object can be changed after it is created\n",
    "\n",
    "Examples : List, Set, Dictionary\n",
    "\n",
    "An immutable object cannot be changed after it is created\n",
    "\n",
    "Exg: tuples, int, float, bool,string"
   ]
  },
  {
   "cell_type": "code",
   "execution_count": null,
   "id": "a7b1f792",
   "metadata": {},
   "outputs": [],
   "source": []
  }
 ],
 "metadata": {
  "kernelspec": {
   "display_name": "Python 3 (ipykernel)",
   "language": "python",
   "name": "python3"
  },
  "language_info": {
   "codemirror_mode": {
    "name": "ipython",
    "version": 3
   },
   "file_extension": ".py",
   "mimetype": "text/x-python",
   "name": "python",
   "nbconvert_exporter": "python",
   "pygments_lexer": "ipython3",
   "version": "3.9.7"
  }
 },
 "nbformat": 4,
 "nbformat_minor": 5
}
